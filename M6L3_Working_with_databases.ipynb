{
  "nbformat": 4,
  "nbformat_minor": 0,
  "metadata": {
    "colab": {
      "provenance": [],
      "authorship_tag": "ABX9TyO6chE2tmd6kUXpFHI81mhZ",
      "include_colab_link": true
    },
    "kernelspec": {
      "name": "python3",
      "display_name": "Python 3"
    },
    "language_info": {
      "name": "python"
    }
  },
  "cells": [
    {
      "cell_type": "markdown",
      "metadata": {
        "id": "view-in-github",
        "colab_type": "text"
      },
      "source": [
        "<a href=\"https://colab.research.google.com/github/amilafr/algo-python-pro2/blob/main/M6L3_Working_with_databases.ipynb\" target=\"_parent\"><img src=\"https://colab.research.google.com/assets/colab-badge.svg\" alt=\"Open In Colab\"/></a>"
      ]
    },
    {
      "cell_type": "markdown",
      "source": [
        "# Working with databases\n",
        "\n",
        "[PPT M6L3 ENG](https://docs.google.com/presentation/d/1FqooQ94-0pRwbe5r7P8XTp56N7RMkLYwoH5GxpHWuWU/edit?usp=sharing)"
      ],
      "metadata": {
        "id": "0s4mSPkq1kqA"
      }
    },
    {
      "cell_type": "markdown",
      "source": [
        "# Working with databases"
      ],
      "metadata": {
        "id": "jRfFiRWv1yy8"
      }
    },
    {
      "cell_type": "code",
      "execution_count": null,
      "metadata": {
        "id": "lKTUS2wy1is_"
      },
      "outputs": [],
      "source": []
    },
    {
      "cell_type": "markdown",
      "source": [
        "# Introduction to SQL"
      ],
      "metadata": {
        "id": "nyo-eWGh10Cv"
      }
    },
    {
      "cell_type": "code",
      "source": [],
      "metadata": {
        "id": "wxBiLzTm13Fa"
      },
      "execution_count": null,
      "outputs": []
    },
    {
      "cell_type": "markdown",
      "source": [
        "# The sqlite3 module"
      ],
      "metadata": {
        "id": "g_prQC3F13b7"
      }
    },
    {
      "cell_type": "code",
      "source": [],
      "metadata": {
        "id": "9_zt_7-516zl"
      },
      "execution_count": null,
      "outputs": []
    },
    {
      "cell_type": "markdown",
      "source": [],
      "metadata": {
        "id": "lN-dmujl17XY"
      }
    }
  ]
}