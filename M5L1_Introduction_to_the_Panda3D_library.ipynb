{
  "nbformat": 4,
  "nbformat_minor": 0,
  "metadata": {
    "colab": {
      "provenance": [],
      "authorship_tag": "ABX9TyPd9GHMB6tsQ9p0gm7Z0sWh",
      "include_colab_link": true
    },
    "kernelspec": {
      "name": "python3",
      "display_name": "Python 3"
    },
    "language_info": {
      "name": "python"
    }
  },
  "cells": [
    {
      "cell_type": "markdown",
      "metadata": {
        "id": "view-in-github",
        "colab_type": "text"
      },
      "source": [
        "<a href=\"https://colab.research.google.com/github/amilafr/algo-python-pro2/blob/main/M5L1_Introduction_to_the_Panda3D_library.ipynb\" target=\"_parent\"><img src=\"https://colab.research.google.com/assets/colab-badge.svg\" alt=\"Open In Colab\"/></a>"
      ]
    },
    {
      "cell_type": "markdown",
      "source": [
        "# Introduction to the Panda3D library\n",
        "\n",
        "[PPT M5L1 ENG](https://docs.google.com/presentation/d/107hmIjEW-yimbmK-pfujCgBaSTWGNE8wRXYdcYebjdM/edit?usp=sharing)"
      ],
      "metadata": {
        "id": "HsnZzYHnWrNa"
      }
    },
    {
      "cell_type": "markdown",
      "source": [
        "# 1"
      ],
      "metadata": {
        "id": "y-0HQNtycOtV"
      }
    },
    {
      "cell_type": "code",
      "source": [
        "# connect base scene class\n",
        "from direct.showbase.ShowBase import ShowBase\n",
        "\n",
        "class Game(ShowBase):\n",
        "    def __init__(self):\n",
        "        ShowBase.__init__(self)\n",
        "        self.model = loader.loadModel('models/environment')\n",
        "        self.model.reparentTo(render)\n",
        "        self.model.setScale(0.15)\n",
        "        self.model.setPos(-2, 25, -3)\n",
        "        base.camLens.setFov(90)\n",
        "\n",
        "game = Game()\n",
        "game.run()"
      ],
      "metadata": {
        "id": "f5dbN-hOcN2k"
      },
      "execution_count": null,
      "outputs": []
    },
    {
      "cell_type": "markdown",
      "source": [
        "# 2"
      ],
      "metadata": {
        "id": "t8za-lD2cQNY"
      }
    },
    {
      "cell_type": "code",
      "execution_count": null,
      "metadata": {
        "id": "bofiIixTAod4"
      },
      "outputs": [],
      "source": [
        "# connect base scene class\n",
        "from direct.showbase.ShowBase import ShowBase\n",
        "\n",
        "# bikin object dari showbase\n",
        "class Game(ShowBase):\n",
        "    def __init__(self):\n",
        "        ShowBase.__init__(self)\n",
        "        self.model = loader.loadModel('Blimp.egg')\n",
        "        self.model.reparentTo(self.render)\n",
        "\n",
        "        self.model.setScale(0.1)\n",
        "        self.model.setPos(-2, 25, -3)\n",
        "        base.camLens.setFov(90)\n",
        "\n",
        "# run\n",
        "game = Game()\n",
        "game.run()"
      ]
    },
    {
      "cell_type": "markdown",
      "source": [
        "# game.py"
      ],
      "metadata": {
        "id": "TfmKTda5j7Hc"
      }
    },
    {
      "cell_type": "code",
      "source": [
        "#write here code for app's main window\n",
        "# connect base scene class\n",
        "from direct.showbase.ShowBase import ShowBase\n",
        "from mapmanager import *\n",
        "\n",
        "class Game(ShowBase):\n",
        "    def __init__(self):\n",
        "        ShowBase.__init__(self)\n",
        "        self.land = Mapmanager()\n",
        "        base.camLens.setFov(90)\n",
        "\n",
        "game = Game()\n",
        "game.run()"
      ],
      "metadata": {
        "id": "kArE1Qefj8ib"
      },
      "execution_count": null,
      "outputs": []
    },
    {
      "cell_type": "markdown",
      "source": [
        "# mapmanager.py"
      ],
      "metadata": {
        "id": "Vu5NGRGTj-ZG"
      }
    },
    {
      "cell_type": "code",
      "source": [
        "class Mapmanager():\n",
        "\n",
        "   \"\"\" Managing map \"\"\"\n",
        "   def __init__(self):\n",
        "    #   Load a block model, set a texture, create a property for the color, model and texture\n",
        "    self.model = 'block.egg'\n",
        "    self.texture = 'block.png'\n",
        "    self.color = (0.2, 0.2, 0.35, 1) # rgba\n",
        "\n",
        "    # create nodes\n",
        "    self.startNew()\n",
        "    # add block\n",
        "    self.addBlock((0, 10, 0))\n",
        "\n",
        "   def startNew(self):\n",
        "      self.land = render.attachNewNode(\"Land\")\n",
        "\n",
        "   def addBlock(self, position):\n",
        "      self.block = loader.loadModel(self.model)\n",
        "      self.block.setTexture(loader.loadTexture(self.texture))\n",
        "      self.block.setPos(position)\n",
        "      self.block.setColor(self.color)\n",
        "      self.block.reparentTo(self.land)\n",
        "\n",
        "\n"
      ],
      "metadata": {
        "id": "eKNhV0k0kAGY"
      },
      "execution_count": null,
      "outputs": []
    }
  ]
}